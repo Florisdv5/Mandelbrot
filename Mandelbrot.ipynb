{
 "cells": [
  {
   "cell_type": "code",
   "execution_count": 1,
   "metadata": {},
   "outputs": [],
   "source": [
    "import matplotlib.pyplot as plt\n",
    "import numpy as np\n",
    "\n",
    "from PIL import Image, ImageDraw"
   ]
  },
  {
   "cell_type": "markdown",
   "metadata": {},
   "source": [
    "## Mandelbrot\n",
    "\n",
    "s is a sample (pixel/point of plot). i is number of iterations before stating that does not go to infinity, and therefore does not lie within the mandelbrot set. \n",
    "\n",
    "Investigates what happens when s and i increase separetly. "
   ]
  },
  {
   "cell_type": "code",
   "execution_count": 2,
   "metadata": {},
   "outputs": [
    {
     "data": {
      "text/plain": [
       "1"
      ]
     },
     "execution_count": 2,
     "metadata": {},
     "output_type": "execute_result"
    }
   ],
   "source": [
    "c = complex(2,2)\n",
    "Z0 = c\n",
    "Z = Z0\n",
    "\n",
    "def amount_iter(compl, max_steps, threshold_inf: int = 10):\n",
    "    c = compl\n",
    "    z = c\n",
    "    i = 1\n",
    "    while (z*z.conjugate()).real < threshold_inf and i < max_steps:\n",
    "        z = z**2 + c\n",
    "        i += 1\n",
    "    return i\n",
    "\n",
    "amount_iter(0,0.5)\n",
    "\n",
    "\n",
    "# x = np.linspace(-2,2,1000)\n",
    "# y = np.linspace(-1,1,1000)\n",
    "# x_axis = []\n",
    "# y_axis = []\n",
    "\n",
    "# def mandel_set(x,y):\n",
    "#     for i in x:\n",
    "#         for z in y:\n",
    "#             value = complex(i, z)\n",
    "#             amount = amount_iter(value)\n",
    "# #             print(i, z, amount)\n",
    "#             if abs(amount) < 10:\n",
    "#                 x_axis.append(i)\n",
    "#                 y_axis.append(z)\n",
    "\n",
    "# mandel_set(x,y)\n",
    "# print(x_axis)\n",
    "# print(y_axis)\n",
    "\n",
    "# plt.scatter(x_axis,y_axis)\n"
   ]
  },
  {
   "cell_type": "code",
   "execution_count": null,
   "metadata": {},
   "outputs": [
    {
     "name": "stdout",
     "output_type": "stream",
     "text": [
      "Percentage: 0.0%\n",
      "Percentage: 0.01%\n",
      "Percentage: 0.02%\n",
      "Percentage: 0.03%\n",
      "Percentage: 0.04%\n",
      "Percentage: 0.05%\n",
      "Percentage: 0.06%\n",
      "Percentage: 0.07%\n",
      "Percentage: 0.08%\n",
      "Percentage: 0.09%\n",
      "Percentage: 0.1%\n",
      "Percentage: 0.11%\n",
      "Percentage: 0.12%\n",
      "Percentage: 0.13%\n",
      "Percentage: 0.14%\n",
      "Percentage: 0.15%\n",
      "Percentage: 0.16%\n",
      "Percentage: 0.17%\n",
      "Percentage: 0.18%\n",
      "Percentage: 0.19%\n",
      "Percentage: 0.2%\n",
      "Percentage: 0.21%\n",
      "Percentage: 0.22%\n",
      "Percentage: 0.23%\n",
      "Percentage: 0.24%\n",
      "Percentage: 0.25%\n",
      "Percentage: 0.26%\n",
      "Percentage: 0.27%\n",
      "Percentage: 0.28%\n",
      "Percentage: 0.29%\n",
      "Percentage: 0.3%\n",
      "Percentage: 0.31%\n",
      "Percentage: 0.32%\n",
      "Percentage: 0.33%\n",
      "Percentage: 0.34%\n",
      "Percentage: 0.35%\n",
      "Percentage: 0.36%\n",
      "Percentage: 0.37%\n",
      "Percentage: 0.38%\n",
      "Percentage: 0.39%\n",
      "Percentage: 0.4%\n",
      "Percentage: 0.41%\n",
      "Percentage: 0.42%\n",
      "Percentage: 0.43%\n",
      "Percentage: 0.44%\n",
      "Percentage: 0.45%\n",
      "Percentage: 0.46%\n"
     ]
    }
   ],
   "source": [
    "max_steps = 100 # this is equal to i\n",
    "\n",
    "# Image size (pixels), this is equal to the amount of samples s\n",
    "X_WIDTH = 2700*4\n",
    "Y_HEIGHT = 1800*4\n",
    "\n",
    "# Plot window\n",
    "real_minus = -2\n",
    "real_max = 1\n",
    "real_dif = real_max - real_minus\n",
    "imag_minus = -1\n",
    "imag_max = 1\n",
    "imag_dif = imag_max - imag_minus\n",
    "\n",
    "im = Image.new('HSV', (X_WIDTH, Y_HEIGHT), (0, 0, 0))\n",
    "draw = ImageDraw.Draw(im)\n",
    "percentage = 0\n",
    "\n",
    "\n",
    "for pix_x in range(0, X_WIDTH):\n",
    "    for pix_y in range(0, Y_HEIGHT):\n",
    "        # Convert pixel coordinate to complex number\n",
    "        c = complex(real_minus + (pix_x / X_WIDTH) * real_dif,\n",
    "                    imag_minus + (pix_y / Y_HEIGHT) * imag_dif)\n",
    "        # Compute the number of iterations\n",
    "        m = amount_iter(c, max_steps)\n",
    "        # The color depends on the number of iterations\n",
    "        hue = int(255 * m / max_steps)\n",
    "        saturation = 255\n",
    "        if m < max_steps:\n",
    "            value = 255 \n",
    "        else:\n",
    "            value = 0\n",
    "        # Plot the point\n",
    "        draw.point([pix_x, pix_y], (hue, saturation, value))\n",
    "    if percentage != str(round(pix_x/X_WIDTH,2)):\n",
    "        percentage = str(round(pix_x/X_WIDTH,2))\n",
    "        print(\"Percentage: \" + percentage + \"%\")\n",
    "        \n",
    "im.convert('RGB').save('output.png', 'PNG')\n",
    "\n",
    "imgplot = plt.imshow(im.convert('RGB'))"
   ]
  },
  {
   "cell_type": "code",
   "execution_count": null,
   "metadata": {},
   "outputs": [],
   "source": []
  },
  {
   "cell_type": "code",
   "execution_count": null,
   "metadata": {},
   "outputs": [],
   "source": []
  },
  {
   "cell_type": "code",
   "execution_count": null,
   "metadata": {},
   "outputs": [],
   "source": []
  }
 ],
 "metadata": {
  "kernelspec": {
   "display_name": "Python 3",
   "language": "python",
   "name": "python3"
  }
 },
 "nbformat": 4,
 "nbformat_minor": 4
}
