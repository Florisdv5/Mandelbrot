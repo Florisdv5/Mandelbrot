{
 "cells": [
  {
   "cell_type": "code",
   "execution_count": 116,
   "metadata": {},
   "outputs": [],
   "source": [
    "import numpy as np\n",
    "import matplotlib.pyplot as plt\n",
    "import statistics\n",
    "import math\n",
    "import lhsmdu\n",
    "import time\n",
    "from pyDOE import *\n",
    "import random\n",
    "\n",
    "from PIL import Image, ImageDraw"
   ]
  },
  {
   "cell_type": "code",
   "execution_count": 5,
   "metadata": {},
   "outputs": [],
   "source": [
    "def xy_rand():\n",
    "    x = 3*np.random.random_sample()-2       # X domain is [-2,1]\n",
    "    y = 2*np.random.random_sample()-1       # Y domain is [-1,1]\n",
    "    return x,y "
   ]
  },
  {
   "cell_type": "code",
   "execution_count": 6,
   "metadata": {},
   "outputs": [
    {
     "name": "stdout",
     "output_type": "stream",
     "text": [
      "4\n",
      "0\n",
      "1\n",
      "2\n",
      "3\n",
      "[[-1.625  0.     0.     0.   ]\n",
      " [ 0.    -0.125  0.     0.   ]\n",
      " [ 0.     0.    -1.625  0.   ]\n",
      " [ 0.     0.     0.    -0.125]]\n"
     ]
    },
    {
     "data": {
      "image/png": "[encoded data removed]",
      "text/plain": [
       "<Figure size 432x288 with 1 Axes>"
      ]
     },
     "metadata": {
      "needs_background": "light"
     },
     "output_type": "display_data"
    }
   ],
   "source": [
    "xrange = [-2,1]\n",
    "yrange = [-1,1]\n",
    "\n",
    "def xy_orth(samples, dimensions = 2, strength = 1):\n",
    "    samples = samples\n",
    "    dimensions = dimensions\n",
    "    strength = strength\n",
    "    MAJOR = int(samples**(1/strength))\n",
    "    print(MAJOR)\n",
    "    xlist = np.zeros([int(MAJOR), int(MAJOR)])\n",
    "    ylist = np.zeros([int(MAJOR), int(MAJOR)])\n",
    "    xdif = xrange[1] - xrange[0]\n",
    "    ydif = yrange[1] - yrange[0]\n",
    "    MAJOR = int(MAJOR/4)\n",
    "    for subsquare in range(4):\n",
    "        if subsquare%2 == 0:\n",
    "            xrangenow = [xrange[0], xrange[0]+0.5*xdif]\n",
    "        else:\n",
    "            xrangenow = [xrange[0]+0.5*xdif, xrange[1]]\n",
    "        if subsquare < 2:\n",
    "            yrangenow = [yrange[0], yrange[0]+0.5*ydif]\n",
    "        else:\n",
    "            yrangenow = [yrange[0]+0.5*ydif, yrange[1]]\n",
    "        xdifnow = xdif/2\n",
    "        ydifnow = ydif/2\n",
    "            \n",
    "\n",
    "    #     init_genrand(3737);\n",
    "        m = 0\n",
    "        n = 0\n",
    "            ## Divide the entire area into MAJOR * MAJOR sub-squares */\n",
    "            ## Divide each subsquare into MAJOR * MAJOR cells */\n",
    "            ## The first index determines the row/column number of the subsquare */\n",
    "            ### So xlist[2][5] would indicate what minor column contains the sample\n",
    "            ###   in the major cell with major column number 2 and major row number 5\n",
    "            ###  ylist[2][5] will provide its minor row number */\n",
    "       \n",
    "        for i in range(MAJOR):\n",
    "            i = i + subsquare*MAJOR\n",
    "            print(i)\n",
    "            m = xrangenow[0] + (0.5/samples)*xdif\n",
    "            n = yrangenow[0] + (0.5/samples)*ydif\n",
    "            for j in range(MAJOR):\n",
    "                j = j + subsquare*MAJOR\n",
    "                xlist[i][j] = m #+ np.random.random_sample()*xdif*(1/(2*MAJOR))\n",
    "                ylist[i][j] = n #+ np.random.random_sample()*ydif*(1/(2*MAJOR))\n",
    "                n += (1/samples)*ydif\n",
    "                m += (1/samples)*xdif\n",
    "    \n",
    "    #     print(xlist)\n",
    "    for k in range(samples):\n",
    "        for i in range(MAJOR):\n",
    "            i = i + subsquare*MAJOR\n",
    "            ##              /* Due to the way the lists have been created subranges with similar\n",
    "            ##              x or y values will stay together\n",
    "            ##              xlist[i] is a pointer to the start of the 1D array xlist[i][0] ... xlist[i][MAJOR - 1]\n",
    "            xlist[i] = np.random.permutation(xlist[i])\n",
    "            ylist[i] = np.random.permutation(ylist[i])\n",
    "    #         for i in range (MAJOR):          ##     /* Subsquare column */\n",
    "\n",
    "    #             for j in range(MAJOR):       ##  /* Subsquare row */\n",
    "\n",
    "    #                     ##    /* For a given subsquare column (i) every subsquare has its sample in\n",
    "    #                     ##     a different column of cells (as determined by xlist[i][j]\n",
    "    #                     ##    The random long double value selects a random point in the minor subsquare\n",
    "    #                 x = -2.0 + scale * (xlist[i][j] + np.random.random_sample())\n",
    "\n",
    "    #                     ##    /* For a given subsquare row, every subsquare has its sample in a different \n",
    "    #                     ##   row of cells */\n",
    "    #                 y = -2.0 + scale * (ylist[j][i] + np.random.random_sample());\n",
    "\n",
    "    #                     ##    /* Do the desired computation with with x and y at this point in the code */\n",
    "    print(xlist)\n",
    "#     print(ylist)\n",
    "    return xlist,ylist\n",
    "\n",
    "x_orth, y_orth = xy_orth(4)\n",
    "# plt.scatter(x_LHS, y_LHS, color=\"b\", label=\"LHS-MDU\", alpha = 0.5)\n",
    "plt.scatter(x_orth[1], y_orth[1], color=\"g\", label=\"Orthogonal\", alpha = 0.5)\n",
    "# plt.scatter(xlist, ylist, color=\"r\", label=\"MC\", alpha = 0.5)\n",
    "plt.axhline(y=0, color='r', linestyle='-', alpha = 0.5)\n",
    "plt.axvline(x=-0.5, color='r', linestyle='-', alpha = 0.5)\n",
    "\n",
    "# plt.legend()\n",
    "plt.grid()\n",
    "plt.show()"
   ]
  },
  {
   "cell_type": "code",
   "execution_count": 30,
   "metadata": {},
   "outputs": [
    {
     "name": "stdout",
     "output_type": "stream",
     "text": [
      "20\n"
     ]
    },
    {
     "data": {
      "image/png": "[encoded data removed]",
      "text/plain": [
       "<Figure size 432x288 with 1 Axes>"
      ]
     },
     "metadata": {
      "needs_background": "light"
     },
     "output_type": "display_data"
    }
   ],
   "source": [
    "def xy_orth(samples, dimensions = 2, strength = 1):\n",
    "    xrange = [-2,1]\n",
    "    yrange = [-1,1]\n",
    "    samples = samples\n",
    "    dimensions = dimensions\n",
    "    strength = strength\n",
    "    MAJOR = int(samples**(1/strength))\n",
    "    print(MAJOR)\n",
    "    xlist = np.zeros([int(MAJOR), int(MAJOR)])\n",
    "    ylist = np.zeros([int(MAJOR), int(MAJOR)])\n",
    "    xdif = xrange[1] - xrange[0]\n",
    "    ydif = yrange[1] - yrange[0]\n",
    "            \n",
    "\n",
    "    #     init_genrand(3737);\n",
    "    m = 0\n",
    "    n = 0\n",
    "        ## Divide the entire area into MAJOR * MAJOR sub-squares */\n",
    "        ## Divide each subsquare into MAJOR * MAJOR cells */\n",
    "        ## The first index determines the row/column number of the subsquare */\n",
    "        ### So xlist[2][5] would indicate what minor column contains the sample\n",
    "        ###   in the major cell with major column number 2 and major row number 5\n",
    "        ###  ylist[2][5] will provide its minor row number */\n",
    "\n",
    "    for i in range(MAJOR):\n",
    "        m = xrange[0] + (0.5/samples)*xdif\n",
    "        n = yrange[0] + (0.5/samples)*ydif\n",
    "        for j in range(MAJOR):\n",
    "            xlist[i][j] = m + np.random.random_sample()*xdif*(1/(2*MAJOR))\n",
    "            ylist[i][j] = n + np.random.random_sample()*ydif*(1/(2*MAJOR))\n",
    "            n += (1/samples)*ydif\n",
    "            m += (1/samples)*xdif\n",
    "\n",
    "#     print(xlist)\n",
    "    for k in range(samples):\n",
    "        for i in range(MAJOR):\n",
    "            ##              /* Due to the way the lists have been created subranges with similar\n",
    "            ##              x or y values will stay together\n",
    "            ##              xlist[i] is a pointer to the start of the 1D array xlist[i][0] ... xlist[i][MAJOR - 1]\n",
    "            xlist[i] = np.random.permutation(xlist[i])\n",
    "            ylist[i] = np.random.permutation(ylist[i])\n",
    "    #         for i in range (MAJOR):          ##     /* Subsquare column */\n",
    "\n",
    "    #             for j in range(MAJOR):       ##  /* Subsquare row */\n",
    "\n",
    "    #                     ##    /* For a given subsquare column (i) every subsquare has its sample in\n",
    "    #                     ##     a different column of cells (as determined by xlist[i][j]\n",
    "    #                     ##    The random long double value selects a random point in the minor subsquare\n",
    "    #                 x = -2.0 + scale * (xlist[i][j] + np.random.random_sample())\n",
    "\n",
    "    #                     ##    /* For a given subsquare row, every subsquare has its sample in a different \n",
    "    #                     ##   row of cells */\n",
    "    #                 y = -2.0 + scale * (ylist[j][i] + np.random.random_sample());\n",
    "\n",
    "    #                     ##    /* Do the desired computation with with x and y at this point in the code */\n",
    "#     print(xlist)\n",
    "#     print(ylist)\n",
    "    return xlist,ylist\n",
    "\n",
    "x_orth, y_orth = xy_orth(20)\n",
    "# plt.scatter(x_LHS, y_LHS, color=\"b\", label=\"LHS-MDU\", alpha = 0.5)\n",
    "plt.scatter(x_orth[0], y_orth[0], color=\"g\", label=\"Orthogonal\", alpha = 0.5)\n",
    "# plt.scatter(xlist, ylist, color=\"r\", label=\"MC\", alpha = 0.5)\n",
    "plt.axhline(y=0, color='r', linestyle='-', alpha = 0.5)\n",
    "plt.axvline(x=-0.5, color='r', linestyle='-', alpha = 0.5)\n",
    "\n",
    "# plt.legend()\n",
    "plt.grid()\n",
    "plt.show()"
   ]
  },
  {
   "cell_type": "code",
   "execution_count": 57,
   "metadata": {},
   "outputs": [],
   "source": [
    "def xy_LHS(x):\n",
    "    l = lhsmdu.sample(2,x)\n",
    "    x,y = (l[0][0]), (l[1][0])\n",
    "    x = x.tolist()\n",
    "    x = x[0]\n",
    "    for xind in range(len(x)):\n",
    "        x[xind] = 3*x[xind]-2\n",
    "    y = y.tolist()\n",
    "    y = y[0]\n",
    "    for yind in range(len(y)):\n",
    "        y[yind] = 2*y[yind]-1\n",
    "    return x,y"
   ]
  },
  {
   "cell_type": "code",
   "execution_count": 2,
   "metadata": {},
   "outputs": [
    {
     "ename": "IndentationError",
     "evalue": "unindent does not match any outer indentation level (<tokenize>, line 19)",
     "output_type": "error",
     "traceback": [
      "\u001b[1;36m  File \u001b[1;32m\"<tokenize>\"\u001b[1;36m, line \u001b[1;32m19\u001b[0m\n\u001b[1;33m    point = (point[0] + n * block[0], point[1] + n * block[1])\u001b[0m\n\u001b[1;37m    ^\u001b[0m\n\u001b[1;31mIndentationError\u001b[0m\u001b[1;31m:\u001b[0m unindent does not match any outer indentation level\n"
     ]
    }
   ],
   "source": [
    "def another_Orthogonal(ns):\n",
    "   assert(np.sqrt(ns) % 1 == 0),\"Please insert an even number of samples\"\n",
    "   n = int(np.sqrt(ns))\n",
    "   # Making a datastructure of a dict with coordinate tuples of a bigger grid with subcoordinate of sub-grid points\n",
    "   blocks = {(i,j):[(a,b) for a in range(n) for b in range(n)] for i in range(n) for j in range(n)}\n",
    "   points = []#np.empty((n,2))\n",
    "   append = points.append # tips of python to fasten up append call\n",
    "   for block in blocks:\n",
    "       point = random.choice(blocks[block])\n",
    "       lst_row = [(k1, b) for (k1, b), v in blocks.items() if k1 == block[0]]\n",
    "       lst_col = [(a, k1) for (a, k1), v in blocks.items() if k1 == block[1]]\n",
    "\n",
    "       for col in lst_col:\n",
    "           blocks[col] = [a for a in blocks[col] if a[1] != point[1]]\n",
    "\n",
    "       for row in lst_row:\n",
    "           blocks[row] = [a for a in blocks[row] if a[0] != point[0]]\n",
    "      #Adjust the points to fit the grid they fall in  \n",
    "      point = (point[0] + n * block[0], point[1] + n * block[1])\n",
    "      append(point)\n",
    "\n",
    "    return points"
   ]
  },
  {
   "cell_type": "code",
   "execution_count": 33,
   "metadata": {},
   "outputs": [],
   "source": [
    "def amount_iter(compl, max_steps, threshold_inf: int = 10):\n",
    "    c = compl\n",
    "    z = 0\n",
    "    i = 0\n",
    "    while (z*z.conjugate()).real < threshold_inf and i < max_steps:\n",
    "        z = z**2 + c\n",
    "        i += 1\n",
    "    return i"
   ]
  },
  {
   "cell_type": "code",
   "execution_count": 102,
   "metadata": {},
   "outputs": [],
   "source": [
    "def xy_LHS_another2(samples):\n",
    "    l = lhs(2,samples = samples)\n",
    "    x = []\n",
    "    y = []\n",
    "    for i in range(len(l)):\n",
    "        x.append(3*l[i][0]-2)\n",
    "        y.append(2*l[i][1]-1)\n",
    "    return x,y\n"
   ]
  },
  {
   "cell_type": "code",
   "execution_count": 103,
   "metadata": {},
   "outputs": [],
   "source": [
    "def xy_LHS_another(samples, dimensions = 2, strength = 1):\n",
    "    xrange = [-2,1]\n",
    "    yrange = [-1,1]\n",
    "    samples = samples\n",
    "    dimensions = dimensions\n",
    "    strength = strength\n",
    "    MAJOR = int(samples**(1/strength))\n",
    "    xlist = np.zeros([int(MAJOR)])\n",
    "    ylist = np.zeros([int(MAJOR)])\n",
    "    xdif = xrange[1] - xrange[0]\n",
    "    ydif = yrange[1] - yrange[0]\n",
    "    m = xrange[0] + (0.5/samples)*xdif\n",
    "    n = yrange[0] + (0.5/samples)*ydif\n",
    "    for j in range(MAJOR):\n",
    "        xlist[j] = m + np.random.random_sample()*xdif*(1/(2*MAJOR))\n",
    "        ylist[j] = n + np.random.random_sample()*ydif*(1/(2*MAJOR))\n",
    "        n += (1/samples)*ydif\n",
    "        m += (1/samples)*xdif\n",
    "    for k in range(samples):\n",
    "        xlist = np.random.permutation(xlist)\n",
    "        ylist = np.random.permutation(ylist)\n",
    "    return xlist,ylist"
   ]
  },
  {
   "cell_type": "code",
   "execution_count": 153,
   "metadata": {},
   "outputs": [
    {
     "data": {
      "image/png": "[encoded data removed]",
      "text/plain": [
       "<Figure size 432x288 with 1 Axes>"
      ]
     },
     "metadata": {
      "needs_background": "light"
     },
     "output_type": "display_data"
    }
   ],
   "source": [
    "x_LHS,y_LHS = xy_LHS(20)\n",
    "x_LHS_another, y_LSH_another = xy_LHS_another(20)\n",
    "x_LHS_another2, y_LSH_another2 = xy_LHS_another2(20)\n",
    "\n",
    "# plt.scatter(x_LHS, y_LHS, color=\"b\", label=\"LHS-MDU\", alpha = 0.5)\n",
    "plt.scatter(x_LHS_another, y_LSH_another, color=\"g\", label=\"LHS own\", alpha = 0.5)\n",
    "# plt.scatter(x_LHS_another2, y_LSH_another2, color=\"r\", label=\"LHS with lhs()\", alpha = 0.5)\n",
    "# plt.scatter(xlist, ylist, color=\"r\", label=\"MC\", alpha = 0.5)\n",
    "plt.axhline(y=0, color='r', linestyle='-', alpha = 0.5)\n",
    "plt.axvline(x=-0.5, color='r', linestyle='-', alpha = 0.5)\n",
    "\n",
    "plt.legend()\n",
    "plt.grid()\n",
    "plt.show()"
   ]
  },
  {
   "cell_type": "markdown",
   "metadata": {},
   "source": [
    "## Orthogonal"
   ]
  },
  {
   "cell_type": "code",
   "execution_count": 175,
   "metadata": {},
   "outputs": [],
   "source": [
    "def another_Orthogonal(ns):\n",
    "    xrange = [-2,1]\n",
    "    yrange = [-1,1]\n",
    "    xdif = xrange[1] - xrange[0]\n",
    "    ydif = yrange[1] - yrange[0]\n",
    "    assert(np.sqrt(ns) % 1 == 0),\"Please insert an even number of samples\"\n",
    "    n = int(np.sqrt(ns))\n",
    "    # Making a datastructure of a dict with coordinate tuples of a bigger grid with subcoordinate of sub-grid points\n",
    "    blocks = {(i,j):[(a,b) for a in range(n) for b in range(n)] for i in range(n) for j in range(n)}\n",
    "    points = []#np.empty((n,2))\n",
    "    append = points.append # tips of python to fasten up append call\n",
    "    for block in blocks:\n",
    "        point = random.choice(blocks[block])\n",
    "        lst_row = [(k1, b) for (k1, b), v in blocks.items() if k1 == block[0]]\n",
    "        lst_col = [(a, k1) for (a, k1), v in blocks.items() if k1 == block[1]]\n",
    "\n",
    "        for col in lst_col:\n",
    "            blocks[col] = [a for a in blocks[col] if a[1] != point[1]]\n",
    "\n",
    "        for row in lst_row:\n",
    "            blocks[row] = [a for a in blocks[row] if a[0] != point[0]]\n",
    "        #Adjust the points to fit the grid they fall in  \n",
    "        point = (point[0] + n * block[0], point[1] + n * block[1])\n",
    "        append(point)\n",
    "    x = []\n",
    "    y = []\n",
    "    for i in range(len(points)):\n",
    "        x.append(3*points[i][0]/ns-2 + np.random.random_sample()*xdif/(2*ns))\n",
    "        y.append(2*points[i][1]/ns-1 + np.random.random_sample()*ydif/(2*ns))\n",
    "#           x.append(points[i][0]/ns)\n",
    "#           y.append(points[i][1]/ns)\n",
    "\n",
    "    return x,y"
   ]
  },
  {
   "cell_type": "code",
   "execution_count": 196,
   "metadata": {},
   "outputs": [
    {
     "ename": "AssertionError",
     "evalue": "Please insert an even number of samples",
     "output_type": "error",
     "traceback": [
      "\u001b[1;31m---------------------------------------------------------------------------\u001b[0m",
      "\u001b[1;31mAssertionError\u001b[0m                            Traceback (most recent call last)",
      "\u001b[1;32m<ipython-input-196-7591be7958d9>\u001b[0m in \u001b[0;36m<module>\u001b[1;34m\u001b[0m\n\u001b[1;32m----> 1\u001b[1;33m \u001b[0mx\u001b[0m\u001b[1;33m,\u001b[0m \u001b[0my\u001b[0m \u001b[1;33m=\u001b[0m \u001b[0manother_Orthogonal\u001b[0m\u001b[1;33m(\u001b[0m\u001b[1;36m1000\u001b[0m\u001b[1;33m)\u001b[0m\u001b[1;33m\u001b[0m\u001b[1;33m\u001b[0m\u001b[0m\n\u001b[0m\u001b[0;32m      2\u001b[0m \u001b[1;33m\u001b[0m\u001b[0m\n\u001b[0;32m      3\u001b[0m \u001b[0mplt\u001b[0m\u001b[1;33m.\u001b[0m\u001b[0mscatter\u001b[0m\u001b[1;33m(\u001b[0m\u001b[0mx\u001b[0m\u001b[1;33m,\u001b[0m\u001b[0my\u001b[0m\u001b[1;33m)\u001b[0m\u001b[1;33m\u001b[0m\u001b[1;33m\u001b[0m\u001b[0m\n\u001b[0;32m      4\u001b[0m \u001b[0mplt\u001b[0m\u001b[1;33m.\u001b[0m\u001b[0maxhline\u001b[0m\u001b[1;33m(\u001b[0m\u001b[0my\u001b[0m\u001b[1;33m=\u001b[0m\u001b[1;36m0\u001b[0m\u001b[1;33m,\u001b[0m \u001b[0mcolor\u001b[0m\u001b[1;33m=\u001b[0m\u001b[1;34m'r'\u001b[0m\u001b[1;33m,\u001b[0m \u001b[0mlinestyle\u001b[0m\u001b[1;33m=\u001b[0m\u001b[1;34m'-'\u001b[0m\u001b[1;33m,\u001b[0m \u001b[0malpha\u001b[0m \u001b[1;33m=\u001b[0m \u001b[1;36m0.5\u001b[0m\u001b[1;33m)\u001b[0m\u001b[1;33m\u001b[0m\u001b[1;33m\u001b[0m\u001b[0m\n\u001b[0;32m      5\u001b[0m \u001b[0mplt\u001b[0m\u001b[1;33m.\u001b[0m\u001b[0maxvline\u001b[0m\u001b[1;33m(\u001b[0m\u001b[0mx\u001b[0m\u001b[1;33m=\u001b[0m\u001b[1;33m-\u001b[0m\u001b[1;36m0.5\u001b[0m\u001b[1;33m,\u001b[0m \u001b[0mcolor\u001b[0m\u001b[1;33m=\u001b[0m\u001b[1;34m'r'\u001b[0m\u001b[1;33m,\u001b[0m \u001b[0mlinestyle\u001b[0m\u001b[1;33m=\u001b[0m\u001b[1;34m'-'\u001b[0m\u001b[1;33m,\u001b[0m \u001b[0malpha\u001b[0m \u001b[1;33m=\u001b[0m \u001b[1;36m0.5\u001b[0m\u001b[1;33m)\u001b[0m\u001b[1;33m\u001b[0m\u001b[1;33m\u001b[0m\u001b[0m\n",
      "\u001b[1;32m<ipython-input-175-dcfb36332ccc>\u001b[0m in \u001b[0;36manother_Orthogonal\u001b[1;34m(ns)\u001b[0m\n\u001b[0;32m      4\u001b[0m     \u001b[0mxdif\u001b[0m \u001b[1;33m=\u001b[0m \u001b[0mxrange\u001b[0m\u001b[1;33m[\u001b[0m\u001b[1;36m1\u001b[0m\u001b[1;33m]\u001b[0m \u001b[1;33m-\u001b[0m \u001b[0mxrange\u001b[0m\u001b[1;33m[\u001b[0m\u001b[1;36m0\u001b[0m\u001b[1;33m]\u001b[0m\u001b[1;33m\u001b[0m\u001b[1;33m\u001b[0m\u001b[0m\n\u001b[0;32m      5\u001b[0m     \u001b[0mydif\u001b[0m \u001b[1;33m=\u001b[0m \u001b[0myrange\u001b[0m\u001b[1;33m[\u001b[0m\u001b[1;36m1\u001b[0m\u001b[1;33m]\u001b[0m \u001b[1;33m-\u001b[0m \u001b[0myrange\u001b[0m\u001b[1;33m[\u001b[0m\u001b[1;36m0\u001b[0m\u001b[1;33m]\u001b[0m\u001b[1;33m\u001b[0m\u001b[1;33m\u001b[0m\u001b[0m\n\u001b[1;32m----> 6\u001b[1;33m     \u001b[1;32massert\u001b[0m\u001b[1;33m(\u001b[0m\u001b[0mnp\u001b[0m\u001b[1;33m.\u001b[0m\u001b[0msqrt\u001b[0m\u001b[1;33m(\u001b[0m\u001b[0mns\u001b[0m\u001b[1;33m)\u001b[0m \u001b[1;33m%\u001b[0m \u001b[1;36m1\u001b[0m \u001b[1;33m==\u001b[0m \u001b[1;36m0\u001b[0m\u001b[1;33m)\u001b[0m\u001b[1;33m,\u001b[0m\u001b[1;34m\"Please insert an even number of samples\"\u001b[0m\u001b[1;33m\u001b[0m\u001b[1;33m\u001b[0m\u001b[0m\n\u001b[0m\u001b[0;32m      7\u001b[0m     \u001b[0mn\u001b[0m \u001b[1;33m=\u001b[0m \u001b[0mint\u001b[0m\u001b[1;33m(\u001b[0m\u001b[0mnp\u001b[0m\u001b[1;33m.\u001b[0m\u001b[0msqrt\u001b[0m\u001b[1;33m(\u001b[0m\u001b[0mns\u001b[0m\u001b[1;33m)\u001b[0m\u001b[1;33m)\u001b[0m\u001b[1;33m\u001b[0m\u001b[1;33m\u001b[0m\u001b[0m\n\u001b[0;32m      8\u001b[0m     \u001b[1;31m# Making a datastructure of a dict with coordinate tuples of a bigger grid with subcoordinate of sub-grid points\u001b[0m\u001b[1;33m\u001b[0m\u001b[1;33m\u001b[0m\u001b[1;33m\u001b[0m\u001b[0m\n",
      "\u001b[1;31mAssertionError\u001b[0m: Please insert an even number of samples"
     ]
    }
   ],
   "source": [
    "x, y = another_Orthogonal(1000)\n",
    "\n",
    "plt.scatter(x,y)\n",
    "plt.axhline(y=0, color='r', linestyle='-', alpha = 0.5)\n",
    "plt.axvline(x=-0.5, color='r', linestyle='-', alpha = 0.5)\n",
    "plt.show()"
   ]
  },
  {
   "cell_type": "code",
   "execution_count": null,
   "metadata": {},
   "outputs": [],
   "source": []
  },
  {
   "cell_type": "code",
   "execution_count": null,
   "metadata": {},
   "outputs": [],
   "source": []
  }
 ],
 "metadata": {
  "kernelspec": {
   "display_name": "Python 3",
   "language": "python",
   "name": "python3"
  },
  "language_info": {
   "codemirror_mode": {
    "name": "ipython",
    "version": 3
   },
   "file_extension": ".py",
   "mimetype": "text/x-python",
   "name": "python",
   "nbconvert_exporter": "python",
   "pygments_lexer": "ipython3",
   "version": "3.8.3"
  }
 },
 "nbformat": 4,
 "nbformat_minor": 4
}
